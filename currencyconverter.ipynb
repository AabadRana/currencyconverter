{
 "cells": [
  {
   "cell_type": "code",
   "execution_count": 27,
   "id": "0f0b9b01-c425-46dc-9961-7b5f727491bb",
   "metadata": {},
   "outputs": [],
   "source": [
    "from currency_converter import CurrencyConverter\n",
    "import tkinter as tk\n",
    "'''a=CurrencyConverter()\n",
    "print(a.convert(1,\"USD\",\"INR\"))'''\n",
    "window = tk.Tk()\n",
    "window.geometry(\"500x360\")\n",
    "a=CurrencyConverter()\n",
    "def Clicked():\n",
    "    amount=int(e1.get())\n",
    "    cur1=e2.get()\n",
    "    cur2=e3.get()\n",
    "    data=a.convert(amount,cur1,cur2)\n",
    "    l5=tk.Label(window,text=data,font=\"Times 25 bold\").place(x=200,y=290)\n",
    "\n",
    "l1=tk.Label(window,text=\"Currency Converter\",font=\"Times 25 bold\").place(x=100,y=30)\n",
    "l2=tk.Label(window,text=\"Enter amount here\",font=\"Times 16 bold\").place(x=50,y=80)\n",
    "e1=tk.Entry(window)\n",
    "\n",
    "l3=tk.Label(window,text=\"Enter the currency\",font=\"Times 16 bold\").place(x=50,y=130)\n",
    "e2=tk.Entry(window)\n",
    "\n",
    "l4=tk.Label(window,text=\"Enter required currency\",font=\"Times 16 bold\").place(x=50,y=180)\n",
    "e3=tk.Entry(window)\n",
    "\n",
    "b1=tk.Button(window,text=\"Click\",command=Clicked).place(x=230,y=240)\n",
    "e1.place(x=280,y=90)\n",
    "e2.place(x=280,y=130)\n",
    "e3.place(x=280,y=190)\n",
    "window.mainloop()\n",
    "\n",
    "\n"
   ]
  },
  {
   "cell_type": "markdown",
   "id": "d33c63d6-4a7e-4315-ba1d-4920a51ee79f",
   "metadata": {},
   "source": [
    "# "
   ]
  },
  {
   "cell_type": "code",
   "execution_count": null,
   "id": "1455ceea-bc2c-411f-8972-58eb86498003",
   "metadata": {},
   "outputs": [],
   "source": []
  }
 ],
 "metadata": {
  "kernelspec": {
   "display_name": "Python 3 (ipykernel)",
   "language": "python",
   "name": "python3"
  },
  "language_info": {
   "codemirror_mode": {
    "name": "ipython",
    "version": 3
   },
   "file_extension": ".py",
   "mimetype": "text/x-python",
   "name": "python",
   "nbconvert_exporter": "python",
   "pygments_lexer": "ipython3",
   "version": "3.11.1"
  }
 },
 "nbformat": 4,
 "nbformat_minor": 5
}
